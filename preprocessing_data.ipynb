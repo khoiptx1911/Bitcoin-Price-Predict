{
 "cells": [
  {
   "cell_type": "code",
   "execution_count": 1,
   "metadata": {},
   "outputs": [],
   "source": [
    "import pandas as pd\n",
    "\n",
    "# Đường dẫn đến file Excel của bạn\n",
    "path_to_excel1 = './all_data/BTC_USD.xlsx'\n",
    "path_to_excel2 = './all_data/FEDFUNDS.xlsx'\n",
    "path_to_excel3 = './all_data/Gold.xlsx'\n",
    "\n",
    "# Đọc file Excel\n",
    "df1 = pd.read_excel(path_to_excel1)\n",
    "df2 = pd.read_excel(path_to_excel2)\n",
    "df3 = pd.read_excel(path_to_excel3)"
   ]
  },
  {
   "cell_type": "code",
   "execution_count": 2,
   "metadata": {},
   "outputs": [
    {
     "name": "stdout",
     "output_type": "stream",
     "text": [
      "<class 'pandas.core.frame.DataFrame'>\n",
      "RangeIndex: 4937 entries, 0 to 4936\n",
      "Data columns (total 7 columns):\n",
      " #   Column    Non-Null Count  Dtype \n",
      "---  ------    --------------  ----- \n",
      " 0   Date      4937 non-null   int64 \n",
      " 1   Price     4937 non-null   object\n",
      " 2   Open      4937 non-null   object\n",
      " 3   High      4937 non-null   object\n",
      " 4   Low       4937 non-null   object\n",
      " 5   Vol.      4937 non-null   object\n",
      " 6   Change %  4937 non-null   object\n",
      "dtypes: int64(1), object(6)\n",
      "memory usage: 270.1+ KB\n"
     ]
    }
   ],
   "source": [
    "df1.info()"
   ]
  },
  {
   "cell_type": "code",
   "execution_count": 3,
   "metadata": {},
   "outputs": [
    {
     "name": "stdout",
     "output_type": "stream",
     "text": [
      "<class 'pandas.core.frame.DataFrame'>\n",
      "RangeIndex: 3453 entries, 0 to 3452\n",
      "Data columns (total 2 columns):\n",
      " #   Column  Non-Null Count  Dtype  \n",
      "---  ------  --------------  -----  \n",
      " 0   Date    3453 non-null   int64  \n",
      " 1   Gold    3453 non-null   float64\n",
      "dtypes: float64(1), int64(1)\n",
      "memory usage: 54.1 KB\n"
     ]
    }
   ],
   "source": [
    "df3.info()"
   ]
  },
  {
   "cell_type": "code",
   "execution_count": 4,
   "metadata": {},
   "outputs": [
    {
     "data": {
      "text/html": [
       "<div>\n",
       "<style scoped>\n",
       "    .dataframe tbody tr th:only-of-type {\n",
       "        vertical-align: middle;\n",
       "    }\n",
       "\n",
       "    .dataframe tbody tr th {\n",
       "        vertical-align: top;\n",
       "    }\n",
       "\n",
       "    .dataframe thead th {\n",
       "        text-align: right;\n",
       "    }\n",
       "</style>\n",
       "<table border=\"1\" class=\"dataframe\">\n",
       "  <thead>\n",
       "    <tr style=\"text-align: right;\">\n",
       "      <th></th>\n",
       "      <th>Date</th>\n",
       "      <th>Gold</th>\n",
       "    </tr>\n",
       "  </thead>\n",
       "  <tbody>\n",
       "    <tr>\n",
       "      <th>0</th>\n",
       "      <td>45313</td>\n",
       "      <td>2026.7500</td>\n",
       "    </tr>\n",
       "    <tr>\n",
       "      <th>1</th>\n",
       "      <td>45312</td>\n",
       "      <td>2029.6244</td>\n",
       "    </tr>\n",
       "    <tr>\n",
       "      <th>2</th>\n",
       "      <td>45311</td>\n",
       "      <td>2029.6244</td>\n",
       "    </tr>\n",
       "    <tr>\n",
       "      <th>3</th>\n",
       "      <td>45310</td>\n",
       "      <td>2029.6244</td>\n",
       "    </tr>\n",
       "    <tr>\n",
       "      <th>4</th>\n",
       "      <td>45309</td>\n",
       "      <td>2023.1038</td>\n",
       "    </tr>\n",
       "  </tbody>\n",
       "</table>\n",
       "</div>"
      ],
      "text/plain": [
       "    Date       Gold\n",
       "0  45313  2026.7500\n",
       "1  45312  2029.6244\n",
       "2  45311  2029.6244\n",
       "3  45310  2029.6244\n",
       "4  45309  2023.1038"
      ]
     },
     "execution_count": 4,
     "metadata": {},
     "output_type": "execute_result"
    }
   ],
   "source": [
    "df3.head()"
   ]
  },
  {
   "cell_type": "code",
   "execution_count": 5,
   "metadata": {},
   "outputs": [
    {
     "name": "stdout",
     "output_type": "stream",
     "text": [
      "       Date       Gold\n",
      "3452  40377  1204.7500\n",
      "3451  40378  1190.2500\n",
      "3450  40379  1181.5000\n",
      "3449  40380  1191.2500\n",
      "3448  40381  1187.0000\n",
      "...     ...        ...\n",
      "4     45309  2023.1038\n",
      "3     45310  2029.6244\n",
      "2     45311  2029.6244\n",
      "1     45312  2029.6244\n",
      "0     45313  2026.7500\n",
      "\n",
      "[3453 rows x 2 columns]\n"
     ]
    }
   ],
   "source": [
    "df3 = df3.sort_values(by='Date')\n",
    "\n",
    "print(df3)"
   ]
  },
  {
   "cell_type": "code",
   "execution_count": 6,
   "metadata": {},
   "outputs": [
    {
     "name": "stdout",
     "output_type": "stream",
     "text": [
      "<class 'pandas.core.frame.DataFrame'>\n",
      "RangeIndex: 4937 entries, 0 to 4936\n",
      "Data columns (total 2 columns):\n",
      " #   Column  Non-Null Count  Dtype  \n",
      "---  ------  --------------  -----  \n",
      " 0   Date    4937 non-null   int64  \n",
      " 1   Gold    4937 non-null   float64\n",
      "dtypes: float64(1), int64(1)\n",
      "memory usage: 77.3 KB\n"
     ]
    }
   ],
   "source": [
    "lower_limit = 40377\n",
    "upper_limit = 45313\n",
    "\n",
    "all_numbers = pd.Series(range(lower_limit, upper_limit + 1), name='Date')\n",
    "\n",
    "df3 = df3.set_index('Date').reindex(all_numbers).ffill().reset_index()\n",
    "\n",
    "# Hiển thị DataFrame sau khi tạo các hàng mới\n",
    "df3.info()"
   ]
  },
  {
   "cell_type": "code",
   "execution_count": 7,
   "metadata": {},
   "outputs": [
    {
     "name": "stdout",
     "output_type": "stream",
     "text": [
      "<class 'pandas.core.frame.DataFrame'>\n",
      "RangeIndex: 162 entries, 0 to 161\n",
      "Data columns (total 2 columns):\n",
      " #   Column    Non-Null Count  Dtype  \n",
      "---  ------    --------------  -----  \n",
      " 0   Date      162 non-null    int64  \n",
      " 1   FEDFUNDS  162 non-null    float64\n",
      "dtypes: float64(1), int64(1)\n",
      "memory usage: 2.7 KB\n"
     ]
    }
   ],
   "source": [
    "df2.info()"
   ]
  },
  {
   "cell_type": "code",
   "execution_count": 8,
   "metadata": {},
   "outputs": [
    {
     "name": "stdout",
     "output_type": "stream",
     "text": [
      "<class 'pandas.core.frame.DataFrame'>\n",
      "RangeIndex: 4937 entries, 0 to 4936\n",
      "Data columns (total 2 columns):\n",
      " #   Column    Non-Null Count  Dtype  \n",
      "---  ------    --------------  -----  \n",
      " 0   Date      4937 non-null   int64  \n",
      " 1   FEDFUNDS  4937 non-null   float64\n",
      "dtypes: float64(1), int64(1)\n",
      "memory usage: 77.3 KB\n"
     ]
    }
   ],
   "source": [
    "lower_limit = 40377\n",
    "upper_limit = 45313\n",
    "\n",
    "all_numbers = pd.Series(range(lower_limit, upper_limit + 1), name='Date')\n",
    "\n",
    "df2 = df2.set_index('Date').reindex(all_numbers).ffill().reset_index()\n",
    "\n",
    "# Hiển thị DataFrame sau khi tạo các hàng mới\n",
    "df2.info()"
   ]
  },
  {
   "cell_type": "code",
   "execution_count": 9,
   "metadata": {},
   "outputs": [
    {
     "name": "stdout",
     "output_type": "stream",
     "text": [
      "       Date  FEDFUNDS\n",
      "0     40377      0.18\n",
      "1     40378      0.18\n",
      "2     40379      0.18\n",
      "3     40380      0.18\n",
      "4     40381      0.18\n",
      "...     ...       ...\n",
      "4932  45309      5.33\n",
      "4933  45310      5.33\n",
      "4934  45311      5.33\n",
      "4935  45312      5.33\n",
      "4936  45313      5.33\n",
      "\n",
      "[4937 rows x 2 columns]\n"
     ]
    }
   ],
   "source": [
    "print(df2)"
   ]
  },
  {
   "cell_type": "code",
   "execution_count": 10,
   "metadata": {},
   "outputs": [
    {
     "name": "stdout",
     "output_type": "stream",
     "text": [
      "       Date     Price      Open      High       Low    Vol. Change %\n",
      "0     45313  40,825.8  41,581.7  41,684.9  40,711.9  30.31K   -1.82%\n",
      "1     45312  41,583.2  41,695.4  41,878.0  41,504.5  16.11K   -0.27%\n",
      "2     45311  41,695.4  41,647.6  41,858.0  41,449.5  22.27K    0.11%\n",
      "3     45310  41,648.0  41,293.8  42,164.6  40,305.4  72.64K    0.86%\n",
      "4     45309  41,292.7  42,763.5  42,908.0  40,682.6  70.35K   -3.45%\n",
      "...     ...       ...       ...       ...       ...     ...      ...\n",
      "4932  40381       0.1       0.1       0.1       0.1   2.16K    0.00%\n",
      "4933  40380       0.1       0.1       0.1       0.1   0.58K    0.00%\n",
      "4934  40379       0.1       0.1       0.1       0.1   0.26K    0.00%\n",
      "4935  40378       0.1       0.1       0.1       0.1   0.57K    0.00%\n",
      "4936  40377       0.1       0.0       0.1       0.1   0.08K    0.00%\n",
      "\n",
      "[4937 rows x 7 columns]\n"
     ]
    }
   ],
   "source": [
    "print(df1)"
   ]
  },
  {
   "cell_type": "code",
   "execution_count": 11,
   "metadata": {},
   "outputs": [
    {
     "name": "stdout",
     "output_type": "stream",
     "text": [
      "       Date     Price      Open      High       Low    Vol. Change %\n",
      "4936  40377       0.1       0.0       0.1       0.1   0.08K    0.00%\n",
      "4935  40378       0.1       0.1       0.1       0.1   0.57K    0.00%\n",
      "4934  40379       0.1       0.1       0.1       0.1   0.26K    0.00%\n",
      "4933  40380       0.1       0.1       0.1       0.1   0.58K    0.00%\n",
      "4932  40381       0.1       0.1       0.1       0.1   2.16K    0.00%\n",
      "...     ...       ...       ...       ...       ...     ...      ...\n",
      "4     45309  41,292.7  42,763.5  42,908.0  40,682.6  70.35K   -3.45%\n",
      "3     45310  41,648.0  41,293.8  42,164.6  40,305.4  72.64K    0.86%\n",
      "2     45311  41,695.4  41,647.6  41,858.0  41,449.5  22.27K    0.11%\n",
      "1     45312  41,583.2  41,695.4  41,878.0  41,504.5  16.11K   -0.27%\n",
      "0     45313  40,825.8  41,581.7  41,684.9  40,711.9  30.31K   -1.82%\n",
      "\n",
      "[4937 rows x 7 columns]\n"
     ]
    }
   ],
   "source": [
    "df1 = df1.sort_values(by='Date')\n",
    "\n",
    "print(df1)"
   ]
  },
  {
   "cell_type": "code",
   "execution_count": 12,
   "metadata": {},
   "outputs": [
    {
     "name": "stdout",
     "output_type": "stream",
     "text": [
      "       Date    Price     Open     High      Low   Vol. Change %\n",
      "4936  40377      0.1      0.0      0.1      0.1   0.08     0.00\n",
      "4935  40378      0.1      0.1      0.1      0.1   0.57     0.00\n",
      "4934  40379      0.1      0.1      0.1      0.1   0.26     0.00\n",
      "4933  40380      0.1      0.1      0.1      0.1   0.58     0.00\n",
      "4932  40381      0.1      0.1      0.1      0.1   2.16     0.00\n",
      "...     ...      ...      ...      ...      ...    ...      ...\n",
      "4     45309  41292.7  42763.5  42908.0  40682.6  70.35    -3.45\n",
      "3     45310  41648.0  41293.8  42164.6  40305.4  72.64     0.86\n",
      "2     45311  41695.4  41647.6  41858.0  41449.5  22.27     0.11\n",
      "1     45312  41583.2  41695.4  41878.0  41504.5  16.11    -0.27\n",
      "0     45313  40825.8  41581.7  41684.9  40711.9  30.31    -1.82\n",
      "\n",
      "[4937 rows x 7 columns]\n"
     ]
    }
   ],
   "source": [
    "df1 = df1.applymap(lambda x: x.replace(',', '') if isinstance(x, str) else x)\n",
    "df1 = df1.applymap(lambda x: x.replace('K', '') if isinstance(x, str) else x)\n",
    "df1 = df1.applymap(lambda x: x.replace('%', '') if isinstance(x, str) else x)\n",
    "df1 = df1.applymap(lambda x: x.replace('M', '') if isinstance(x, str) else x)\n",
    "df1 = df1.applymap(lambda x: x.replace('B', '') if isinstance(x, str) else x)\n",
    "\n",
    "print(df1)"
   ]
  },
  {
   "cell_type": "code",
   "execution_count": 13,
   "metadata": {},
   "outputs": [
    {
     "name": "stdout",
     "output_type": "stream",
     "text": [
      "Các hàng có giá trị null:\n",
      "Empty DataFrame\n",
      "Columns: [Date, Price, Open, High, Low, Vol., Change %]\n",
      "Index: []\n"
     ]
    }
   ],
   "source": [
    "null_rows = df1[df1.isnull().any(axis=1)]\n",
    "\n",
    "# Hiển thị kết quả\n",
    "print(\"Các hàng có giá trị null:\")\n",
    "print(null_rows)"
   ]
  },
  {
   "cell_type": "code",
   "execution_count": 14,
   "metadata": {},
   "outputs": [
    {
     "name": "stdout",
     "output_type": "stream",
     "text": [
      "       Date    Price     Open     High      Low   Vol.  Change %\n",
      "4936  40377      0.1      0.0      0.1      0.1   0.08      0.00\n",
      "4935  40378      0.1      0.1      0.1      0.1   0.57      0.00\n",
      "4934  40379      0.1      0.1      0.1      0.1   0.26      0.00\n",
      "4933  40380      0.1      0.1      0.1      0.1   0.58      0.00\n",
      "4932  40381      0.1      0.1      0.1      0.1   2.16      0.00\n",
      "...     ...      ...      ...      ...      ...    ...       ...\n",
      "4     45309  41292.7  42763.5  42908.0  40682.6  70.35     -3.45\n",
      "3     45310  41648.0  41293.8  42164.6  40305.4  72.64      0.86\n",
      "2     45311  41695.4  41647.6  41858.0  41449.5  22.27      0.11\n",
      "1     45312  41583.2  41695.4  41878.0  41504.5  16.11     -0.27\n",
      "0     45313  40825.8  41581.7  41684.9  40711.9  30.31     -1.82\n",
      "\n",
      "[4937 rows x 7 columns]\n"
     ]
    }
   ],
   "source": [
    "df1[['Price', 'Open', 'High', 'Low', 'Vol.', 'Change %']] = df1[['Price', 'Open', 'High', 'Low', 'Vol.', 'Change %']].apply(pd.to_numeric, errors='coerce')\n",
    "print(df1)"
   ]
  },
  {
   "cell_type": "code",
   "execution_count": 15,
   "metadata": {},
   "outputs": [
    {
     "name": "stdout",
     "output_type": "stream",
     "text": [
      "Các hàng có giá trị null:\n",
      "Empty DataFrame\n",
      "Columns: [Date, Price, Open, High, Low, Vol., Change %]\n",
      "Index: []\n"
     ]
    }
   ],
   "source": [
    "null_rows = df1[df1.isnull().any(axis=1)]\n",
    "\n",
    "# Hiển thị kết quả\n",
    "print(\"Các hàng có giá trị null:\")\n",
    "print(null_rows)"
   ]
  },
  {
   "cell_type": "code",
   "execution_count": 16,
   "metadata": {},
   "outputs": [
    {
     "name": "stdout",
     "output_type": "stream",
     "text": [
      "       Date    Price     Open     High      Low   Vol.  Change %  FEDFUNDS  \\\n",
      "0     40377      0.1      0.0      0.1      0.1   0.08      0.00      0.18   \n",
      "1     40378      0.1      0.1      0.1      0.1   0.57      0.00      0.18   \n",
      "2     40379      0.1      0.1      0.1      0.1   0.26      0.00      0.18   \n",
      "3     40380      0.1      0.1      0.1      0.1   0.58      0.00      0.18   \n",
      "4     40381      0.1      0.1      0.1      0.1   2.16      0.00      0.18   \n",
      "...     ...      ...      ...      ...      ...    ...       ...       ...   \n",
      "4932  45309  41292.7  42763.5  42908.0  40682.6  70.35     -3.45      5.33   \n",
      "4933  45310  41648.0  41293.8  42164.6  40305.4  72.64      0.86      5.33   \n",
      "4934  45311  41695.4  41647.6  41858.0  41449.5  22.27      0.11      5.33   \n",
      "4935  45312  41583.2  41695.4  41878.0  41504.5  16.11     -0.27      5.33   \n",
      "4936  45313  40825.8  41581.7  41684.9  40711.9  30.31     -1.82      5.33   \n",
      "\n",
      "           Gold  \n",
      "0     1204.7500  \n",
      "1     1190.2500  \n",
      "2     1181.5000  \n",
      "3     1191.2500  \n",
      "4     1187.0000  \n",
      "...         ...  \n",
      "4932  2023.1038  \n",
      "4933  2029.6244  \n",
      "4934  2029.6244  \n",
      "4935  2029.6244  \n",
      "4936  2026.7500  \n",
      "\n",
      "[4937 rows x 9 columns]\n"
     ]
    }
   ],
   "source": [
    "from functools import reduce\n",
    "\n",
    "dfs = [df1, df2, df3]  \n",
    "\n",
    "# Hợp nhất các DataFrame theo cột 'Date'\n",
    "df = reduce(lambda left, right: pd.merge(left, right, on='Date', how='outer'), dfs)\n",
    "\n",
    "# Hiển thị DataFrame sau khi hợp nhất\n",
    "print(df)\n"
   ]
  },
  {
   "cell_type": "code",
   "execution_count": 17,
   "metadata": {},
   "outputs": [
    {
     "name": "stdout",
     "output_type": "stream",
     "text": [
      "<class 'pandas.core.frame.DataFrame'>\n",
      "RangeIndex: 4937 entries, 0 to 4936\n",
      "Data columns (total 9 columns):\n",
      " #   Column    Non-Null Count  Dtype  \n",
      "---  ------    --------------  -----  \n",
      " 0   Date      4937 non-null   int64  \n",
      " 1   Price     4937 non-null   float64\n",
      " 2   Open      4937 non-null   float64\n",
      " 3   High      4937 non-null   float64\n",
      " 4   Low       4937 non-null   float64\n",
      " 5   Vol.      4937 non-null   float64\n",
      " 6   Change %  4937 non-null   float64\n",
      " 7   FEDFUNDS  4937 non-null   float64\n",
      " 8   Gold      4937 non-null   float64\n",
      "dtypes: float64(8), int64(1)\n",
      "memory usage: 347.3 KB\n"
     ]
    }
   ],
   "source": [
    "df.info()"
   ]
  },
  {
   "cell_type": "code",
   "execution_count": 18,
   "metadata": {},
   "outputs": [],
   "source": [
    "df['Gold'] = df['Gold'].apply(pd.to_numeric, errors='coerce')"
   ]
  },
  {
   "cell_type": "code",
   "execution_count": 19,
   "metadata": {},
   "outputs": [
    {
     "name": "stdout",
     "output_type": "stream",
     "text": [
      "<class 'pandas.core.frame.DataFrame'>\n",
      "RangeIndex: 4937 entries, 0 to 4936\n",
      "Data columns (total 9 columns):\n",
      " #   Column    Non-Null Count  Dtype  \n",
      "---  ------    --------------  -----  \n",
      " 0   Date      4937 non-null   int64  \n",
      " 1   Price     4937 non-null   float64\n",
      " 2   Open      4937 non-null   float64\n",
      " 3   High      4937 non-null   float64\n",
      " 4   Low       4937 non-null   float64\n",
      " 5   Vol.      4937 non-null   float64\n",
      " 6   Change %  4937 non-null   float64\n",
      " 7   FEDFUNDS  4937 non-null   float64\n",
      " 8   Gold      4937 non-null   float64\n",
      "dtypes: float64(8), int64(1)\n",
      "memory usage: 347.3 KB\n"
     ]
    }
   ],
   "source": [
    "df.info()"
   ]
  },
  {
   "cell_type": "code",
   "execution_count": 20,
   "metadata": {},
   "outputs": [
    {
     "name": "stdout",
     "output_type": "stream",
     "text": [
      "       Date    Price     Open     High      Low   Vol.  Change %  FEDFUNDS  \\\n",
      "0     40377      0.1      0.0      0.1      0.1   0.08      0.00      0.18   \n",
      "1     40378      0.1      0.1      0.1      0.1   0.57      0.00      0.18   \n",
      "2     40379      0.1      0.1      0.1      0.1   0.26      0.00      0.18   \n",
      "3     40380      0.1      0.1      0.1      0.1   0.58      0.00      0.18   \n",
      "4     40381      0.1      0.1      0.1      0.1   2.16      0.00      0.18   \n",
      "...     ...      ...      ...      ...      ...    ...       ...       ...   \n",
      "4932  45309  41292.7  42763.5  42908.0  40682.6  70.35     -3.45      5.33   \n",
      "4933  45310  41648.0  41293.8  42164.6  40305.4  72.64      0.86      5.33   \n",
      "4934  45311  41695.4  41647.6  41858.0  41449.5  22.27      0.11      5.33   \n",
      "4935  45312  41583.2  41695.4  41878.0  41504.5  16.11     -0.27      5.33   \n",
      "4936  45313  40825.8  41581.7  41684.9  40711.9  30.31     -1.82      5.33   \n",
      "\n",
      "           Gold  \n",
      "0     1204.7500  \n",
      "1     1190.2500  \n",
      "2     1181.5000  \n",
      "3     1191.2500  \n",
      "4     1187.0000  \n",
      "...         ...  \n",
      "4932  2023.1038  \n",
      "4933  2029.6244  \n",
      "4934  2029.6244  \n",
      "4935  2029.6244  \n",
      "4936  2026.7500  \n",
      "\n",
      "[4937 rows x 9 columns]\n"
     ]
    }
   ],
   "source": [
    "print(df)"
   ]
  },
  {
   "cell_type": "code",
   "execution_count": 21,
   "metadata": {},
   "outputs": [],
   "source": [
    "df.to_excel('alldata.xlsx', index=False)"
   ]
  }
 ],
 "metadata": {
  "kernelspec": {
   "display_name": "base",
   "language": "python",
   "name": "python3"
  },
  "language_info": {
   "codemirror_mode": {
    "name": "ipython",
    "version": 3
   },
   "file_extension": ".py",
   "mimetype": "text/x-python",
   "name": "python",
   "nbconvert_exporter": "python",
   "pygments_lexer": "ipython3",
   "version": "3.11.5"
  }
 },
 "nbformat": 4,
 "nbformat_minor": 2
}
